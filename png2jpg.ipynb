{
 "cells": [
  {
   "cell_type": "code",
   "execution_count": 1,
   "metadata": {},
   "outputs": [],
   "source": [
    "# convert png to jpg\n",
    "import os\n",
    "import cv2\n"
   ]
  },
  {
   "cell_type": "code",
   "execution_count": 2,
   "metadata": {},
   "outputs": [
    {
     "data": {
      "text/plain": [
       "True"
      ]
     },
     "execution_count": 2,
     "metadata": {},
     "output_type": "execute_result"
    }
   ],
   "source": [
    "# load image\n",
    "image_file = r\"C:\\Users\\ruoqi\\OneDrive\\Documents\\GitHub\\RoyH11.github.io\\images\\banner.png\"\n",
    "output_file = r\"C:\\Users\\ruoqi\\OneDrive\\Documents\\GitHub\\RoyH11.github.io\\images\\banner.jpg\"\n",
    "\n",
    "image = cv2.imread(image_file)\n",
    "# save image\n",
    "cv2.imwrite(output_file, image)"
   ]
  }
 ],
 "metadata": {
  "kernelspec": {
   "display_name": "RoyEnvironment",
   "language": "python",
   "name": "python3"
  },
  "language_info": {
   "codemirror_mode": {
    "name": "ipython",
    "version": 3
   },
   "file_extension": ".py",
   "mimetype": "text/x-python",
   "name": "python",
   "nbconvert_exporter": "python",
   "pygments_lexer": "ipython3",
   "version": "3.11.10"
  }
 },
 "nbformat": 4,
 "nbformat_minor": 2
}
